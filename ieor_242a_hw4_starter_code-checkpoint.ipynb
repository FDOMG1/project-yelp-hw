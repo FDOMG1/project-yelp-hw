{
 "cells": [
  {
   "cell_type": "markdown",
   "id": "8951d5f5",
   "metadata": {
    "id": "8951d5f5"
   },
   "source": [
    "# IEOR 242A HW4 Starter Code — Spring 2024"
   ]
  },
  {
   "cell_type": "code",
   "execution_count": 25,
   "id": "80e3964a",
   "metadata": {
    "code_folding": [],
    "id": "80e3964a"
   },
   "outputs": [],
   "source": [
    "# Dependencies\n",
    "import numpy as np\n",
    "import pandas as pd\n",
    "import matplotlib as plt\n",
    "import statsmodels.api as sm\n",
    "from sklearn.model_selection import GridSearchCV\n",
    "from sklearn.tree import DecisionTreeRegressor\n",
    "from sklearn.model_selection import KFold\n",
    "from sklearn.tree import plot_tree\n",
    "from scipy.stats import pearsonr\n",
    "from sklearn.metrics import mean_squared_error\n",
    "from sklearn.metrics import mean_absolute_error\n",
    "from sklearn.linear_model import LinearRegression\n",
    "import statsmodels.formula.api as smf\n",
    "from sklearn.metrics import confusion_matrix\n",
    "from sklearn.metrics import roc_curve, auc\n",
    "from sklearn.tree import DecisionTreeClassifier\n",
    "from sklearn.ensemble import RandomForestClassifier\n",
    "from sklearn.metrics import accuracy_score\n",
    "from sklearn.preprocessing import OneHotEncoder\n",
    "from sklearn.discriminant_analysis import LinearDiscriminantAnalysis\n",
    "# TODO: Put all dependencies here"
   ]
  },
  {
   "cell_type": "code",
   "execution_count": 2,
   "id": "1267ae20",
   "metadata": {
    "code_folding": [],
    "id": "1267ae20"
   },
   "outputs": [],
   "source": [
    "# Load in data\n",
    "letters_test=pd.read_csv('Letters_test_2024.csv')\n",
    "letters_train=pd.read_csv('Letters_train_2024.csv')\n",
    "\n",
    "# TODO: Load in data (after analyzing the dataset, delete any ouputs such as df.inf(), df.head(), et).\n",
    "# this cell should not output anything"
   ]
  },
  {
   "cell_type": "markdown",
   "id": "86d6a9df",
   "metadata": {
    "id": "86d6a9df"
   },
   "source": [
    "# Question 1 (50 points)"
   ]
  },
  {
   "cell_type": "code",
   "execution_count": 3,
   "id": "73e377b6",
   "metadata": {
    "code_folding": [],
    "id": "73e377b6"
   },
   "outputs": [
    {
     "data": {
      "text/html": [
       "<div>\n",
       "<style scoped>\n",
       "    .dataframe tbody tr th:only-of-type {\n",
       "        vertical-align: middle;\n",
       "    }\n",
       "\n",
       "    .dataframe tbody tr th {\n",
       "        vertical-align: top;\n",
       "    }\n",
       "\n",
       "    .dataframe thead th {\n",
       "        text-align: right;\n",
       "    }\n",
       "</style>\n",
       "<table border=\"1\" class=\"dataframe\">\n",
       "  <thead>\n",
       "    <tr style=\"text-align: right;\">\n",
       "      <th></th>\n",
       "      <th>Unnamed: 0</th>\n",
       "      <th>letter</th>\n",
       "      <th>xbox</th>\n",
       "      <th>ybox</th>\n",
       "      <th>width</th>\n",
       "      <th>height</th>\n",
       "      <th>onpix</th>\n",
       "      <th>xbar</th>\n",
       "      <th>ybar</th>\n",
       "      <th>x2bar</th>\n",
       "      <th>y2bar</th>\n",
       "      <th>xybar</th>\n",
       "      <th>x2ybar</th>\n",
       "      <th>xy2bar</th>\n",
       "      <th>xedge</th>\n",
       "      <th>xedgeycor</th>\n",
       "      <th>yedge</th>\n",
       "      <th>yedgexcor</th>\n",
       "      <th>isB</th>\n",
       "    </tr>\n",
       "  </thead>\n",
       "  <tbody>\n",
       "    <tr>\n",
       "      <th>0</th>\n",
       "      <td>407</td>\n",
       "      <td>R</td>\n",
       "      <td>6</td>\n",
       "      <td>9</td>\n",
       "      <td>6</td>\n",
       "      <td>4</td>\n",
       "      <td>4</td>\n",
       "      <td>5</td>\n",
       "      <td>8</td>\n",
       "      <td>3</td>\n",
       "      <td>6</td>\n",
       "      <td>7</td>\n",
       "      <td>4</td>\n",
       "      <td>10</td>\n",
       "      <td>5</td>\n",
       "      <td>7</td>\n",
       "      <td>5</td>\n",
       "      <td>7</td>\n",
       "      <td>0</td>\n",
       "    </tr>\n",
       "    <tr>\n",
       "      <th>1</th>\n",
       "      <td>907</td>\n",
       "      <td>R</td>\n",
       "      <td>5</td>\n",
       "      <td>10</td>\n",
       "      <td>6</td>\n",
       "      <td>6</td>\n",
       "      <td>3</td>\n",
       "      <td>6</td>\n",
       "      <td>13</td>\n",
       "      <td>9</td>\n",
       "      <td>3</td>\n",
       "      <td>7</td>\n",
       "      <td>2</td>\n",
       "      <td>9</td>\n",
       "      <td>3</td>\n",
       "      <td>7</td>\n",
       "      <td>5</td>\n",
       "      <td>10</td>\n",
       "      <td>0</td>\n",
       "    </tr>\n",
       "    <tr>\n",
       "      <th>2</th>\n",
       "      <td>1770</td>\n",
       "      <td>R</td>\n",
       "      <td>2</td>\n",
       "      <td>2</td>\n",
       "      <td>3</td>\n",
       "      <td>4</td>\n",
       "      <td>3</td>\n",
       "      <td>7</td>\n",
       "      <td>7</td>\n",
       "      <td>5</td>\n",
       "      <td>6</td>\n",
       "      <td>7</td>\n",
       "      <td>6</td>\n",
       "      <td>7</td>\n",
       "      <td>3</td>\n",
       "      <td>7</td>\n",
       "      <td>5</td>\n",
       "      <td>8</td>\n",
       "      <td>0</td>\n",
       "    </tr>\n",
       "    <tr>\n",
       "      <th>3</th>\n",
       "      <td>802</td>\n",
       "      <td>B</td>\n",
       "      <td>4</td>\n",
       "      <td>4</td>\n",
       "      <td>5</td>\n",
       "      <td>7</td>\n",
       "      <td>4</td>\n",
       "      <td>7</td>\n",
       "      <td>6</td>\n",
       "      <td>9</td>\n",
       "      <td>7</td>\n",
       "      <td>6</td>\n",
       "      <td>6</td>\n",
       "      <td>7</td>\n",
       "      <td>2</td>\n",
       "      <td>7</td>\n",
       "      <td>9</td>\n",
       "      <td>10</td>\n",
       "      <td>1</td>\n",
       "    </tr>\n",
       "    <tr>\n",
       "      <th>4</th>\n",
       "      <td>200</td>\n",
       "      <td>B</td>\n",
       "      <td>4</td>\n",
       "      <td>10</td>\n",
       "      <td>3</td>\n",
       "      <td>8</td>\n",
       "      <td>7</td>\n",
       "      <td>7</td>\n",
       "      <td>6</td>\n",
       "      <td>9</td>\n",
       "      <td>6</td>\n",
       "      <td>7</td>\n",
       "      <td>7</td>\n",
       "      <td>7</td>\n",
       "      <td>2</td>\n",
       "      <td>9</td>\n",
       "      <td>8</td>\n",
       "      <td>10</td>\n",
       "      <td>1</td>\n",
       "    </tr>\n",
       "  </tbody>\n",
       "</table>\n",
       "</div>"
      ],
      "text/plain": [
       "   Unnamed: 0 letter  xbox  ybox  width  height  onpix  xbar  ybar  x2bar  \\\n",
       "0         407      R     6     9      6       4      4     5     8      3   \n",
       "1         907      R     5    10      6       6      3     6    13      9   \n",
       "2        1770      R     2     2      3       4      3     7     7      5   \n",
       "3         802      B     4     4      5       7      4     7     6      9   \n",
       "4         200      B     4    10      3       8      7     7     6      9   \n",
       "\n",
       "   y2bar  xybar  x2ybar  xy2bar  xedge  xedgeycor  yedge  yedgexcor  isB  \n",
       "0      6      7       4      10      5          7      5          7    0  \n",
       "1      3      7       2       9      3          7      5         10    0  \n",
       "2      6      7       6       7      3          7      5          8    0  \n",
       "3      7      6       6       7      2          7      9         10    1  \n",
       "4      6      7       7       7      2          9      8         10    1  "
      ]
     },
     "execution_count": 3,
     "metadata": {},
     "output_type": "execute_result"
    }
   ],
   "source": [
    "# TODO: Create new variable here\n",
    "letters_train['isB'] = letters_train['letter'].apply(lambda x: 1 if x == 'B' else 0)\n",
    "letters_test['isB'] = letters_test['letter'].apply(lambda x: 1 if x == 'B' else 0)\n",
    "letters_train.head()"
   ]
  },
  {
   "cell_type": "code",
   "execution_count": 26,
   "id": "039a5cd0",
   "metadata": {
    "code_folding": [],
    "id": "039a5cd0"
   },
   "outputs": [],
   "source": [
    "# TODO: Split into X and y\n",
    "X_train = letters_train.drop(['isB','letter'], axis=1)\n",
    "y_train = letters_train['isB']\n",
    "y_test=letters_test['isB']\n",
    "X_test=letters_test.drop(['isB','letter'],axis=1)"
   ]
  },
  {
   "cell_type": "markdown",
   "id": "a7c2e726",
   "metadata": {
    "id": "a7c2e726"
   },
   "source": [
    "### Part A: Baseline Model (6 points)"
   ]
  },
  {
   "cell_type": "code",
   "execution_count": 5,
   "id": "a5a6931e",
   "metadata": {
    "code_folding": [
     0
    ],
    "id": "a5a6931e"
   },
   "outputs": [
    {
     "name": "stdout",
     "output_type": "stream",
     "text": [
      "Baseline Test Accuracy: 0.7540\n"
     ]
    }
   ],
   "source": [
    "# Q1A code\n",
    "\n",
    "#TODO: find the most common label\n",
    "default_false_test = np.sum(letters_test['isB'] == 0)\n",
    "default_true_test = np.sum(letters_test['isB'] == 1)\n",
    "baseline_1_acc = default_false_test / (default_false_test + default_true_test)# TODO: calcuate baseline accuracy\n",
    "print(f'Baseline Test Accuracy: {baseline_1_acc:.4f}')"
   ]
  },
  {
   "cell_type": "markdown",
   "id": "eb0f7dca",
   "metadata": {
    "id": "eb0f7dca"
   },
   "source": [
    "### Part B: Logistic Regression (10 points)"
   ]
  },
  {
   "cell_type": "code",
   "execution_count": 6,
   "id": "7fba5965",
   "metadata": {
    "code_folding": [
     0
    ],
    "id": "7fba5965"
   },
   "outputs": [
    {
     "name": "stdout",
     "output_type": "stream",
     "text": [
      "Optimization terminated successfully.\n",
      "         Current function value: 0.158889\n",
      "         Iterations 10\n",
      "Logistic Regression Test Accuracy: 0.9369\n"
     ]
    }
   ],
   "source": [
    "# Q1B code\n",
    "\n",
    "# TODO: For all questions: Create and train model, then make predictions, then calculate accuracy\n",
    "model_1b=smf.logit(formula=\"isB ~ xbox + ybox + width + height + onpix + xbar + ybar + x2bar + y2bar + xybar + x2ybar + xy2bar + xedge + xedgeycor + yedge + yedgexcor \", \n",
    "              data=letters_train).fit()\n",
    "y_prob = model_1b.predict(letters_test)\n",
    "y_pred_log = pd.Series([1 if x > 1/2 else 0 for x in y_prob], index=y_prob.index)\n",
    "cm_log = confusion_matrix(y_test, y_pred_log)\n",
    "model_1b_acc =(cm_log.ravel()[0]+cm_log.ravel()[3])/sum(cm_log.ravel()) # TODO: calcuate logistic accuracy accuracy\n",
    "print(f'Logistic Regression Test Accuracy: {model_1b_acc:.4f}')"
   ]
  },
  {
   "cell_type": "markdown",
   "id": "7495157d",
   "metadata": {
    "id": "7495157d"
   },
   "source": [
    "### Part C: AUC (4 point)"
   ]
  },
  {
   "cell_type": "code",
   "execution_count": 7,
   "id": "94594df9",
   "metadata": {
    "code_folding": [
     0
    ],
    "id": "94594df9"
   },
   "outputs": [
    {
     "name": "stdout",
     "output_type": "stream",
     "text": [
      "Logistic Regression Test AUC: 0.9791\n"
     ]
    }
   ],
   "source": [
    "# Q1C code\n",
    "fpr, tpr, _ = roc_curve(y_test, y_prob)\n",
    "model_1b_auc =auc(fpr, tpr) # TODO: Calculate logistic AUC\n",
    "print(f'Logistic Regression Test AUC: {model_1b_auc:.4f}')"
   ]
  },
  {
   "cell_type": "markdown",
   "id": "ba75df07",
   "metadata": {
    "id": "ba75df07"
   },
   "source": [
    "### Part D: Cross-validated CART (10 points)"
   ]
  },
  {
   "cell_type": "markdown",
   "id": "a6132e51",
   "metadata": {
    "id": "a6132e51"
   },
   "source": [
    "**Written Answer**: we set the cp,minimum numbers of samples needed at a lear, minimum numbers of samples required to splir an internal node, the maximum depth of the tree and the associate weights for perfoming the cross validation. Then we pick the best ccp_alpha corsponding to the best accuracy."
   ]
  },
  {
   "cell_type": "code",
   "execution_count": 8,
   "id": "dee59e95",
   "metadata": {
    "code_folding": [
     0
    ],
    "id": "dee59e95"
   },
   "outputs": [
    {
     "name": "stdout",
     "output_type": "stream",
     "text": [
      "Fitting 10 folds for each of 201 candidates, totalling 2010 fits\n",
      "CV CART Test Accuracy: 0.9112\n",
      "Best ccp_alpha: 0.0000\n"
     ]
    }
   ],
   "source": [
    "# Q1D Code\n",
    "#cross -validation\n",
    "#we pick the ccp_alpha that has the best accuracy\n",
    "grid_values = {'ccp_alpha': np.linspace(0, 0.10, 201),\n",
    "               'min_samples_leaf': [5],\n",
    "               'min_samples_split': [20],\n",
    "               'max_depth': [30],\n",
    "               'class_weight' : [{0: 1, 1: 20}],\n",
    "               'random_state': [88]}\n",
    "dtc = DecisionTreeClassifier()\n",
    "dtc_cv_acc = GridSearchCV(dtc, param_grid = grid_values, scoring = 'accuracy', cv=10, verbose=1) # default scoring metric to optimize is accuracy, used as default if none given.\n",
    "dtc_cv_acc.fit(X_train, y_train)\n",
    "#perform the model\n",
    "model_1d=DecisionTreeClassifier(min_samples_leaf=5, \n",
    "                              ccp_alpha=0.0,\n",
    "                              class_weight = {0: 1, 1: 20},\n",
    "                              random_state = 88)\n",
    "model_1d = model_1d.fit(X_train, y_train)\n",
    "y_pred_class = model_1d.predict(X_test)\n",
    "cm_class = confusion_matrix(y_test, y_pred_class)\n",
    "model_1d_acc =(cm_class.ravel()[0]+cm_class.ravel()[3])/sum(cm_class.ravel())# TODO: calculate best CV accuracy\n",
    "model_1d_best_ccp_alpha = dtc_cv_acc.best_params_['ccp_alpha']# TODO: get best ccp_alpha\n",
    "\n",
    "print(f'CV CART Test Accuracy: {model_1d_acc:.4f}')\n",
    "print(f'Best ccp_alpha: {model_1d_best_ccp_alpha:.4f}')"
   ]
  },
  {
   "cell_type": "markdown",
   "id": "f65edd8a",
   "metadata": {
    "id": "f65edd8a"
   },
   "source": [
    "### Part E: Random Forest (10 points)\n"
   ]
  },
  {
   "cell_type": "code",
   "execution_count": 9,
   "id": "28f7acb2",
   "metadata": {
    "code_folding": [
     0
    ],
    "id": "28f7acb2"
   },
   "outputs": [
    {
     "name": "stdout",
     "output_type": "stream",
     "text": [
      "Random Forest Test Accuracy: 0.9690\n"
     ]
    }
   ],
   "source": [
    "# Q1E Code\n",
    "model_1e=RandomForestClassifier()\n",
    "model_1e.fit(X_train, y_train)\n",
    "y_pred_RF = model_1e.predict(X_test)\n",
    "cm_RF = confusion_matrix(y_test, y_pred_RF)\n",
    "model_1e_acc =(cm_RF.ravel()[0]+cm_RF.ravel()[3])/sum(cm_RF.ravel()) # TODO: calculate random forest accuracy\n",
    "print(f'Random Forest Test Accuracy: {model_1e_acc:.4f}')"
   ]
  },
  {
   "cell_type": "markdown",
   "id": "53648a60",
   "metadata": {
    "id": "53648a60"
   },
   "source": [
    "### Part F: Performance Comparison (10 points)"
   ]
  },
  {
   "cell_type": "markdown",
   "id": "e74bfd25",
   "metadata": {
    "id": "e74bfd25"
   },
   "source": [
    "**Written Answer**: Logistic regression model performs the best on the test set with a accuracy 0.9791. Random forest's accuracy is also outstanding with a accuracy 0.9765. For this application, I believe accuracy is the most important for this application since we are doing a letter recognition. We do want to recognize letters wrong. There is not much to do with interpertaion since we are not giving out strategies or recommendation to other skateholders."
   ]
  },
  {
   "cell_type": "code",
   "execution_count": 10,
   "id": "0015fa9c",
   "metadata": {
    "code_folding": [],
    "id": "0015fa9c"
   },
   "outputs": [
    {
     "name": "stdout",
     "output_type": "stream",
     "text": [
      "                            Accuracy\n",
      "Model                               \n",
      "Baseline Model                0.7540\n",
      "Logistic Regression Model     0.9369\n",
      "Classification tree Model     0.9112\n",
      "Random Forest Model           0.9765\n"
     ]
    }
   ],
   "source": [
    "# Q1F Code\n",
    "models = ['Baseline Model', 'Logistic Regression Model ', 'Classification tree Model', 'Random Forest Model']\n",
    "accuracies = [ 0.7540, 0.9369,  0.9112, 0.9765]\n",
    "df = pd.DataFrame({\n",
    "    'Model': models,\n",
    "    'Accuracy': accuracies})\n",
    "df.set_index('Model', inplace=True)\n",
    "print(df)\n",
    "#TODO: create df to compare performance"
   ]
  },
  {
   "cell_type": "markdown",
   "id": "e4307762",
   "metadata": {
    "id": "e4307762"
   },
   "source": [
    "***\n",
    "# Question 2 (50 points)"
   ]
  },
  {
   "cell_type": "code",
   "execution_count": 36,
   "id": "0dd917ee",
   "metadata": {
    "code_folding": [],
    "id": "0dd917ee"
   },
   "outputs": [],
   "source": [
    "# TODO: Redefine target y\n",
    "y_train1 = letters_train['letter']\n",
    "y_test1=letters_test['letter']\n",
    "X_train1 = letters_train.drop(['isB'], axis=1)\n",
    "X_test1=letters_test.drop(['isB'],axis=1)"
   ]
  },
  {
   "cell_type": "markdown",
   "id": "e2553f29",
   "metadata": {
    "id": "e2553f29"
   },
   "source": [
    "### Part A: Baseline Model (5 points)"
   ]
  },
  {
   "cell_type": "code",
   "execution_count": 37,
   "id": "3d84b11f",
   "metadata": {
    "code_folding": [
     0
    ],
    "id": "3d84b11f"
   },
   "outputs": [
    {
     "name": "stdout",
     "output_type": "stream",
     "text": [
      "Baseline Test Accuracy: 0.2610\n"
     ]
    }
   ],
   "source": [
    "# Q2A\n",
    "most_frequent_class = letters_train['letter'].mode()[0]\n",
    "letters_test['baseline_predictions'] = most_frequent_class\n",
    "baseline_2_acc = accuracy_score(letters_test['letter'], letters_test['baseline_predictions'])\n",
    "print(f'Baseline Test Accuracy: {baseline_2_acc:.4f}')"
   ]
  },
  {
   "cell_type": "code",
   "execution_count": 38,
   "id": "eb5ba29f",
   "metadata": {},
   "outputs": [
    {
     "name": "stdout",
     "output_type": "stream",
     "text": [
      "[array(['A', 'B', 'P', 'R'], dtype=object)]\n"
     ]
    }
   ],
   "source": [
    "print(drop_enc.categories_)"
   ]
  },
  {
   "cell_type": "code",
   "execution_count": 39,
   "id": "9be6260b",
   "metadata": {},
   "outputs": [
    {
     "data": {
      "text/html": [
       "<div>\n",
       "<style scoped>\n",
       "    .dataframe tbody tr th:only-of-type {\n",
       "        vertical-align: middle;\n",
       "    }\n",
       "\n",
       "    .dataframe tbody tr th {\n",
       "        vertical-align: top;\n",
       "    }\n",
       "\n",
       "    .dataframe thead th {\n",
       "        text-align: right;\n",
       "    }\n",
       "</style>\n",
       "<table border=\"1\" class=\"dataframe\">\n",
       "  <thead>\n",
       "    <tr style=\"text-align: right;\">\n",
       "      <th></th>\n",
       "      <th>Unnamed: 0</th>\n",
       "      <th>letter</th>\n",
       "      <th>xbox</th>\n",
       "      <th>ybox</th>\n",
       "      <th>width</th>\n",
       "      <th>height</th>\n",
       "      <th>onpix</th>\n",
       "      <th>xbar</th>\n",
       "      <th>ybar</th>\n",
       "      <th>x2bar</th>\n",
       "      <th>y2bar</th>\n",
       "      <th>xybar</th>\n",
       "      <th>x2ybar</th>\n",
       "      <th>xy2bar</th>\n",
       "      <th>xedge</th>\n",
       "      <th>xedgeycor</th>\n",
       "      <th>yedge</th>\n",
       "      <th>yedgexcor</th>\n",
       "      <th>if</th>\n",
       "    </tr>\n",
       "  </thead>\n",
       "  <tbody>\n",
       "    <tr>\n",
       "      <th>0</th>\n",
       "      <td>407</td>\n",
       "      <td>R</td>\n",
       "      <td>6</td>\n",
       "      <td>9</td>\n",
       "      <td>6</td>\n",
       "      <td>4</td>\n",
       "      <td>4</td>\n",
       "      <td>5</td>\n",
       "      <td>8</td>\n",
       "      <td>3</td>\n",
       "      <td>6</td>\n",
       "      <td>7</td>\n",
       "      <td>4</td>\n",
       "      <td>10</td>\n",
       "      <td>5</td>\n",
       "      <td>7</td>\n",
       "      <td>5</td>\n",
       "      <td>7</td>\n",
       "      <td>1</td>\n",
       "    </tr>\n",
       "    <tr>\n",
       "      <th>1</th>\n",
       "      <td>907</td>\n",
       "      <td>R</td>\n",
       "      <td>5</td>\n",
       "      <td>10</td>\n",
       "      <td>6</td>\n",
       "      <td>6</td>\n",
       "      <td>3</td>\n",
       "      <td>6</td>\n",
       "      <td>13</td>\n",
       "      <td>9</td>\n",
       "      <td>3</td>\n",
       "      <td>7</td>\n",
       "      <td>2</td>\n",
       "      <td>9</td>\n",
       "      <td>3</td>\n",
       "      <td>7</td>\n",
       "      <td>5</td>\n",
       "      <td>10</td>\n",
       "      <td>1</td>\n",
       "    </tr>\n",
       "    <tr>\n",
       "      <th>2</th>\n",
       "      <td>1770</td>\n",
       "      <td>R</td>\n",
       "      <td>2</td>\n",
       "      <td>2</td>\n",
       "      <td>3</td>\n",
       "      <td>4</td>\n",
       "      <td>3</td>\n",
       "      <td>7</td>\n",
       "      <td>7</td>\n",
       "      <td>5</td>\n",
       "      <td>6</td>\n",
       "      <td>7</td>\n",
       "      <td>6</td>\n",
       "      <td>7</td>\n",
       "      <td>3</td>\n",
       "      <td>7</td>\n",
       "      <td>5</td>\n",
       "      <td>8</td>\n",
       "      <td>1</td>\n",
       "    </tr>\n",
       "    <tr>\n",
       "      <th>3</th>\n",
       "      <td>802</td>\n",
       "      <td>B</td>\n",
       "      <td>4</td>\n",
       "      <td>4</td>\n",
       "      <td>5</td>\n",
       "      <td>7</td>\n",
       "      <td>4</td>\n",
       "      <td>7</td>\n",
       "      <td>6</td>\n",
       "      <td>9</td>\n",
       "      <td>7</td>\n",
       "      <td>6</td>\n",
       "      <td>6</td>\n",
       "      <td>7</td>\n",
       "      <td>2</td>\n",
       "      <td>7</td>\n",
       "      <td>9</td>\n",
       "      <td>10</td>\n",
       "      <td>1</td>\n",
       "    </tr>\n",
       "    <tr>\n",
       "      <th>4</th>\n",
       "      <td>200</td>\n",
       "      <td>B</td>\n",
       "      <td>4</td>\n",
       "      <td>10</td>\n",
       "      <td>3</td>\n",
       "      <td>8</td>\n",
       "      <td>7</td>\n",
       "      <td>7</td>\n",
       "      <td>6</td>\n",
       "      <td>9</td>\n",
       "      <td>6</td>\n",
       "      <td>7</td>\n",
       "      <td>7</td>\n",
       "      <td>7</td>\n",
       "      <td>2</td>\n",
       "      <td>9</td>\n",
       "      <td>8</td>\n",
       "      <td>10</td>\n",
       "      <td>1</td>\n",
       "    </tr>\n",
       "  </tbody>\n",
       "</table>\n",
       "</div>"
      ],
      "text/plain": [
       "   Unnamed: 0 letter  xbox  ybox  width  height  onpix  xbar  ybar  x2bar  \\\n",
       "0         407      R     6     9      6       4      4     5     8      3   \n",
       "1         907      R     5    10      6       6      3     6    13      9   \n",
       "2        1770      R     2     2      3       4      3     7     7      5   \n",
       "3         802      B     4     4      5       7      4     7     6      9   \n",
       "4         200      B     4    10      3       8      7     7     6      9   \n",
       "\n",
       "   y2bar  xybar  x2ybar  xy2bar  xedge  xedgeycor  yedge  yedgexcor  if  \n",
       "0      6      7       4      10      5          7      5          7   1  \n",
       "1      3      7       2       9      3          7      5         10   1  \n",
       "2      6      7       6       7      3          7      5          8   1  \n",
       "3      7      6       6       7      2          7      9         10   1  \n",
       "4      6      7       7       7      2          9      8         10   1  "
      ]
     },
     "execution_count": 39,
     "metadata": {},
     "output_type": "execute_result"
    }
   ],
   "source": [
    "X_train1.head()"
   ]
  },
  {
   "cell_type": "markdown",
   "id": "555f682d",
   "metadata": {
    "id": "555f682d"
   },
   "source": [
    "### Part B: LDA (8 points)"
   ]
  },
  {
   "cell_type": "code",
   "execution_count": 33,
   "id": "8860299d",
   "metadata": {
    "code_folding": [
     0
    ],
    "id": "8860299d"
   },
   "outputs": [
    {
     "ename": "ValueError",
     "evalue": "could not convert string to float: 'P'",
     "output_type": "error",
     "traceback": [
      "\u001b[1;31m---------------------------------------------------------------------------\u001b[0m",
      "\u001b[1;31mValueError\u001b[0m                                Traceback (most recent call last)",
      "\u001b[1;32m~\\AppData\\Local\\Temp\\ipykernel_31328\\689742515.py\u001b[0m in \u001b[0;36m<module>\u001b[1;34m\u001b[0m\n\u001b[0;32m     10\u001b[0m \u001b[0mmodel_2b\u001b[0m\u001b[1;33m.\u001b[0m\u001b[0mfit\u001b[0m\u001b[1;33m(\u001b[0m\u001b[0mX_train_transformed\u001b[0m\u001b[1;33m,\u001b[0m \u001b[0my_train1\u001b[0m\u001b[1;33m)\u001b[0m\u001b[1;33m\u001b[0m\u001b[1;33m\u001b[0m\u001b[0m\n\u001b[0;32m     11\u001b[0m \u001b[1;33m\u001b[0m\u001b[0m\n\u001b[1;32m---> 12\u001b[1;33m \u001b[0my_prob_lda\u001b[0m \u001b[1;33m=\u001b[0m \u001b[0mmodel_2b\u001b[0m\u001b[1;33m.\u001b[0m\u001b[0mpredict_proba\u001b[0m\u001b[1;33m(\u001b[0m\u001b[0mX_test_transformed\u001b[0m\u001b[1;33m)\u001b[0m\u001b[1;33m\u001b[0m\u001b[1;33m\u001b[0m\u001b[0m\n\u001b[0m\u001b[0;32m     13\u001b[0m \u001b[0my_pred_lda\u001b[0m \u001b[1;33m=\u001b[0m \u001b[0mpd\u001b[0m\u001b[1;33m.\u001b[0m\u001b[0mSeries\u001b[0m\u001b[1;33m(\u001b[0m\u001b[1;33m[\u001b[0m\u001b[1;36m1\u001b[0m \u001b[1;32mif\u001b[0m \u001b[0mx\u001b[0m \u001b[1;33m>\u001b[0m \u001b[1;36m1\u001b[0m\u001b[1;33m/\u001b[0m\u001b[1;36m2\u001b[0m \u001b[1;32melse\u001b[0m \u001b[1;36m0\u001b[0m \u001b[1;32mfor\u001b[0m \u001b[0mx\u001b[0m \u001b[1;32min\u001b[0m \u001b[0my_prob_lda\u001b[0m\u001b[1;33m[\u001b[0m\u001b[1;33m:\u001b[0m\u001b[1;33m,\u001b[0m\u001b[1;36m1\u001b[0m\u001b[1;33m]\u001b[0m\u001b[1;33m]\u001b[0m\u001b[1;33m,\u001b[0m \u001b[0mindex\u001b[0m\u001b[1;33m=\u001b[0m\u001b[0my_prob\u001b[0m\u001b[1;33m.\u001b[0m\u001b[0mindex\u001b[0m\u001b[1;33m)\u001b[0m\u001b[1;33m\u001b[0m\u001b[1;33m\u001b[0m\u001b[0m\n\u001b[0;32m     14\u001b[0m \u001b[0mmodel_2b_acc\u001b[0m \u001b[1;33m=\u001b[0m \u001b[0maccuracy_score\u001b[0m\u001b[1;33m(\u001b[0m\u001b[0my_test1\u001b[0m\u001b[1;33m,\u001b[0m \u001b[0my_pred_lda\u001b[0m\u001b[1;33m)\u001b[0m\u001b[1;31m# Calculate LDA accuracy\u001b[0m\u001b[1;33m\u001b[0m\u001b[1;33m\u001b[0m\u001b[0m\n",
      "\u001b[1;32m~\\anaconda3\\lib\\site-packages\\sklearn\\discriminant_analysis.py\u001b[0m in \u001b[0;36mpredict_proba\u001b[1;34m(self, X)\u001b[0m\n\u001b[0;32m    659\u001b[0m         \u001b[0mcheck_is_fitted\u001b[0m\u001b[1;33m(\u001b[0m\u001b[0mself\u001b[0m\u001b[1;33m)\u001b[0m\u001b[1;33m\u001b[0m\u001b[1;33m\u001b[0m\u001b[0m\n\u001b[0;32m    660\u001b[0m \u001b[1;33m\u001b[0m\u001b[0m\n\u001b[1;32m--> 661\u001b[1;33m         \u001b[0mdecision\u001b[0m \u001b[1;33m=\u001b[0m \u001b[0mself\u001b[0m\u001b[1;33m.\u001b[0m\u001b[0mdecision_function\u001b[0m\u001b[1;33m(\u001b[0m\u001b[0mX\u001b[0m\u001b[1;33m)\u001b[0m\u001b[1;33m\u001b[0m\u001b[1;33m\u001b[0m\u001b[0m\n\u001b[0m\u001b[0;32m    662\u001b[0m         \u001b[1;32mif\u001b[0m \u001b[0mself\u001b[0m\u001b[1;33m.\u001b[0m\u001b[0mclasses_\u001b[0m\u001b[1;33m.\u001b[0m\u001b[0msize\u001b[0m \u001b[1;33m==\u001b[0m \u001b[1;36m2\u001b[0m\u001b[1;33m:\u001b[0m\u001b[1;33m\u001b[0m\u001b[1;33m\u001b[0m\u001b[0m\n\u001b[0;32m    663\u001b[0m             \u001b[0mproba\u001b[0m \u001b[1;33m=\u001b[0m \u001b[0mexpit\u001b[0m\u001b[1;33m(\u001b[0m\u001b[0mdecision\u001b[0m\u001b[1;33m)\u001b[0m\u001b[1;33m\u001b[0m\u001b[1;33m\u001b[0m\u001b[0m\n",
      "\u001b[1;32m~\\anaconda3\\lib\\site-packages\\sklearn\\discriminant_analysis.py\u001b[0m in \u001b[0;36mdecision_function\u001b[1;34m(self, X)\u001b[0m\n\u001b[0;32m    704\u001b[0m         \"\"\"\n\u001b[0;32m    705\u001b[0m         \u001b[1;31m# Only override for the doc\u001b[0m\u001b[1;33m\u001b[0m\u001b[1;33m\u001b[0m\u001b[0m\n\u001b[1;32m--> 706\u001b[1;33m         \u001b[1;32mreturn\u001b[0m \u001b[0msuper\u001b[0m\u001b[1;33m(\u001b[0m\u001b[1;33m)\u001b[0m\u001b[1;33m.\u001b[0m\u001b[0mdecision_function\u001b[0m\u001b[1;33m(\u001b[0m\u001b[0mX\u001b[0m\u001b[1;33m)\u001b[0m\u001b[1;33m\u001b[0m\u001b[1;33m\u001b[0m\u001b[0m\n\u001b[0m\u001b[0;32m    707\u001b[0m \u001b[1;33m\u001b[0m\u001b[0m\n\u001b[0;32m    708\u001b[0m \u001b[1;33m\u001b[0m\u001b[0m\n",
      "\u001b[1;32m~\\anaconda3\\lib\\site-packages\\sklearn\\linear_model\\_base.py\u001b[0m in \u001b[0;36mdecision_function\u001b[1;34m(self, X)\u001b[0m\n\u001b[0;32m    405\u001b[0m         \u001b[0mcheck_is_fitted\u001b[0m\u001b[1;33m(\u001b[0m\u001b[0mself\u001b[0m\u001b[1;33m)\u001b[0m\u001b[1;33m\u001b[0m\u001b[1;33m\u001b[0m\u001b[0m\n\u001b[0;32m    406\u001b[0m \u001b[1;33m\u001b[0m\u001b[0m\n\u001b[1;32m--> 407\u001b[1;33m         \u001b[0mX\u001b[0m \u001b[1;33m=\u001b[0m \u001b[0mself\u001b[0m\u001b[1;33m.\u001b[0m\u001b[0m_validate_data\u001b[0m\u001b[1;33m(\u001b[0m\u001b[0mX\u001b[0m\u001b[1;33m,\u001b[0m \u001b[0maccept_sparse\u001b[0m\u001b[1;33m=\u001b[0m\u001b[1;34m\"csr\"\u001b[0m\u001b[1;33m,\u001b[0m \u001b[0mreset\u001b[0m\u001b[1;33m=\u001b[0m\u001b[1;32mFalse\u001b[0m\u001b[1;33m)\u001b[0m\u001b[1;33m\u001b[0m\u001b[1;33m\u001b[0m\u001b[0m\n\u001b[0m\u001b[0;32m    408\u001b[0m         \u001b[0mscores\u001b[0m \u001b[1;33m=\u001b[0m \u001b[0msafe_sparse_dot\u001b[0m\u001b[1;33m(\u001b[0m\u001b[0mX\u001b[0m\u001b[1;33m,\u001b[0m \u001b[0mself\u001b[0m\u001b[1;33m.\u001b[0m\u001b[0mcoef_\u001b[0m\u001b[1;33m.\u001b[0m\u001b[0mT\u001b[0m\u001b[1;33m,\u001b[0m \u001b[0mdense_output\u001b[0m\u001b[1;33m=\u001b[0m\u001b[1;32mTrue\u001b[0m\u001b[1;33m)\u001b[0m \u001b[1;33m+\u001b[0m \u001b[0mself\u001b[0m\u001b[1;33m.\u001b[0m\u001b[0mintercept_\u001b[0m\u001b[1;33m\u001b[0m\u001b[1;33m\u001b[0m\u001b[0m\n\u001b[0;32m    409\u001b[0m         \u001b[1;32mreturn\u001b[0m \u001b[0mscores\u001b[0m\u001b[1;33m.\u001b[0m\u001b[0mravel\u001b[0m\u001b[1;33m(\u001b[0m\u001b[1;33m)\u001b[0m \u001b[1;32mif\u001b[0m \u001b[0mscores\u001b[0m\u001b[1;33m.\u001b[0m\u001b[0mshape\u001b[0m\u001b[1;33m[\u001b[0m\u001b[1;36m1\u001b[0m\u001b[1;33m]\u001b[0m \u001b[1;33m==\u001b[0m \u001b[1;36m1\u001b[0m \u001b[1;32melse\u001b[0m \u001b[0mscores\u001b[0m\u001b[1;33m\u001b[0m\u001b[1;33m\u001b[0m\u001b[0m\n",
      "\u001b[1;32m~\\anaconda3\\lib\\site-packages\\sklearn\\base.py\u001b[0m in \u001b[0;36m_validate_data\u001b[1;34m(self, X, y, reset, validate_separately, **check_params)\u001b[0m\n\u001b[0;32m    564\u001b[0m             \u001b[1;32mraise\u001b[0m \u001b[0mValueError\u001b[0m\u001b[1;33m(\u001b[0m\u001b[1;34m\"Validation should be done on X, y or both.\"\u001b[0m\u001b[1;33m)\u001b[0m\u001b[1;33m\u001b[0m\u001b[1;33m\u001b[0m\u001b[0m\n\u001b[0;32m    565\u001b[0m         \u001b[1;32melif\u001b[0m \u001b[1;32mnot\u001b[0m \u001b[0mno_val_X\u001b[0m \u001b[1;32mand\u001b[0m \u001b[0mno_val_y\u001b[0m\u001b[1;33m:\u001b[0m\u001b[1;33m\u001b[0m\u001b[1;33m\u001b[0m\u001b[0m\n\u001b[1;32m--> 566\u001b[1;33m             \u001b[0mX\u001b[0m \u001b[1;33m=\u001b[0m \u001b[0mcheck_array\u001b[0m\u001b[1;33m(\u001b[0m\u001b[0mX\u001b[0m\u001b[1;33m,\u001b[0m \u001b[1;33m**\u001b[0m\u001b[0mcheck_params\u001b[0m\u001b[1;33m)\u001b[0m\u001b[1;33m\u001b[0m\u001b[1;33m\u001b[0m\u001b[0m\n\u001b[0m\u001b[0;32m    567\u001b[0m             \u001b[0mout\u001b[0m \u001b[1;33m=\u001b[0m \u001b[0mX\u001b[0m\u001b[1;33m\u001b[0m\u001b[1;33m\u001b[0m\u001b[0m\n\u001b[0;32m    568\u001b[0m         \u001b[1;32melif\u001b[0m \u001b[0mno_val_X\u001b[0m \u001b[1;32mand\u001b[0m \u001b[1;32mnot\u001b[0m \u001b[0mno_val_y\u001b[0m\u001b[1;33m:\u001b[0m\u001b[1;33m\u001b[0m\u001b[1;33m\u001b[0m\u001b[0m\n",
      "\u001b[1;32m~\\anaconda3\\lib\\site-packages\\sklearn\\utils\\validation.py\u001b[0m in \u001b[0;36mcheck_array\u001b[1;34m(array, accept_sparse, accept_large_sparse, dtype, order, copy, force_all_finite, ensure_2d, allow_nd, ensure_min_samples, ensure_min_features, estimator)\u001b[0m\n\u001b[0;32m    744\u001b[0m                     \u001b[0marray\u001b[0m \u001b[1;33m=\u001b[0m \u001b[0marray\u001b[0m\u001b[1;33m.\u001b[0m\u001b[0mastype\u001b[0m\u001b[1;33m(\u001b[0m\u001b[0mdtype\u001b[0m\u001b[1;33m,\u001b[0m \u001b[0mcasting\u001b[0m\u001b[1;33m=\u001b[0m\u001b[1;34m\"unsafe\"\u001b[0m\u001b[1;33m,\u001b[0m \u001b[0mcopy\u001b[0m\u001b[1;33m=\u001b[0m\u001b[1;32mFalse\u001b[0m\u001b[1;33m)\u001b[0m\u001b[1;33m\u001b[0m\u001b[1;33m\u001b[0m\u001b[0m\n\u001b[0;32m    745\u001b[0m                 \u001b[1;32melse\u001b[0m\u001b[1;33m:\u001b[0m\u001b[1;33m\u001b[0m\u001b[1;33m\u001b[0m\u001b[0m\n\u001b[1;32m--> 746\u001b[1;33m                     \u001b[0marray\u001b[0m \u001b[1;33m=\u001b[0m \u001b[0mnp\u001b[0m\u001b[1;33m.\u001b[0m\u001b[0masarray\u001b[0m\u001b[1;33m(\u001b[0m\u001b[0marray\u001b[0m\u001b[1;33m,\u001b[0m \u001b[0morder\u001b[0m\u001b[1;33m=\u001b[0m\u001b[0morder\u001b[0m\u001b[1;33m,\u001b[0m \u001b[0mdtype\u001b[0m\u001b[1;33m=\u001b[0m\u001b[0mdtype\u001b[0m\u001b[1;33m)\u001b[0m\u001b[1;33m\u001b[0m\u001b[1;33m\u001b[0m\u001b[0m\n\u001b[0m\u001b[0;32m    747\u001b[0m             \u001b[1;32mexcept\u001b[0m \u001b[0mComplexWarning\u001b[0m \u001b[1;32mas\u001b[0m \u001b[0mcomplex_warning\u001b[0m\u001b[1;33m:\u001b[0m\u001b[1;33m\u001b[0m\u001b[1;33m\u001b[0m\u001b[0m\n\u001b[0;32m    748\u001b[0m                 raise ValueError(\n",
      "\u001b[1;31mValueError\u001b[0m: could not convert string to float: 'P'"
     ]
    }
   ],
   "source": [
    "# Q2B code\n",
    "drop_enc = OneHotEncoder(drop='first').fit(X_train1[['letter']])\n",
    "X_train_categorical = drop_enc.transform(X_train1[['letter']]).toarray()\n",
    "X_train_numerical = X_train1.drop(['letter'], axis=1)\n",
    "X_train_transformed = np.concatenate((X_train_numerical,X_train_categorical), axis = 1)\n",
    "X_test_categorical = drop_enc.transform(X_test1[['letter']]).toarray()\n",
    "X_test_numerical = X_test1.drop(['letter'], axis=1)\n",
    "X_test_transformed = np.concatenate((X_test_numerical,X_test_categorical), axis = 1)\n",
    "model_2b = LinearDiscriminantAnalysis()\n",
    "model_2b.fit(X_train_transformed, y_train1)\n",
    "\n",
    "y_prob_lda = model_2b.predict_proba(X_test_transformed)\n",
    "y_pred_lda = pd.Series([1 if x > 1/2 else 0 for x in y_prob_lda[:,1]], index=y_prob.index)\n",
    "model_2b_acc = accuracy_score(y_test1, y_pred_lda)# Calculate LDA accuracy\n",
    "print(f'LDA Test Accuracy: {model_2b_acc:.4f}')\n"
   ]
  },
  {
   "cell_type": "markdown",
   "id": "3c75cc6e",
   "metadata": {
    "id": "3c75cc6e"
   },
   "source": [
    "### Part C: Cross-validated CART (10 points)"
   ]
  },
  {
   "cell_type": "code",
   "execution_count": null,
   "id": "80208cc3",
   "metadata": {
    "code_folding": [
     0
    ],
    "id": "80208cc3"
   },
   "outputs": [],
   "source": [
    "# Q2C Code\n",
    "model_2c = LinearDiscriminantAnalysis()\n",
    "model_2c.fit(X_train, y_train1)\n",
    "\n",
    "y_prob_lda = model_2c.predict_proba(X_test)\n",
    "y_pred_lda = pd.Series([1 if x > 1/3 else 0 for x in y_prob_lda[:,1]], index=y_prob.index)\n",
    "model_2c_acc = # TODO: calculate CV CART accuracy\n",
    "print(f'CART Test Accuracy: {model_2c_acc:.4f}')"
   ]
  },
  {
   "cell_type": "markdown",
   "id": "1a31acb6",
   "metadata": {
    "id": "1a31acb6"
   },
   "source": [
    "### Part D: Vanilla Bagging (8 points)"
   ]
  },
  {
   "cell_type": "code",
   "execution_count": null,
   "id": "ce7d3724",
   "metadata": {
    "code_folding": [
     0
    ],
    "id": "ce7d3724"
   },
   "outputs": [],
   "source": [
    "# Q2D\n",
    "\n",
    "model_2d_acc = # TODO: Calculate vanilla bagging accuracy\n",
    "print(f'No CV Random Forest Test Accuracy: {model_2d_acc:.4f}')"
   ]
  },
  {
   "cell_type": "markdown",
   "id": "903d3365",
   "metadata": {
    "id": "903d3365"
   },
   "source": [
    "### Part E: Cross-validated Random Forest (10 points)"
   ]
  },
  {
   "cell_type": "code",
   "execution_count": null,
   "id": "f2bae54c",
   "metadata": {
    "code_folding": [
     0
    ],
    "id": "f2bae54c"
   },
   "outputs": [],
   "source": [
    "# Q2E\n",
    "\n",
    "model_2e_acc = # TODO: Calculate RF accuracy\n",
    "print(f'CV Random Forest Test Accuracy: {model_2e_acc:.4f}')"
   ]
  },
  {
   "cell_type": "markdown",
   "id": "1969e7f2",
   "metadata": {
    "id": "1969e7f2"
   },
   "source": [
    "### Part F: Gradient Boosting Classifier (9 points)"
   ]
  },
  {
   "cell_type": "code",
   "execution_count": null,
   "id": "f9bd4e72",
   "metadata": {
    "code_folding": [
     0
    ],
    "id": "f9bd4e72"
   },
   "outputs": [],
   "source": [
    "# Q2F\n",
    "\n",
    "model_2f_acc = # Calculate boosting accuracy\n",
    "print(f'GBC Test Accuracy: {model_2f_acc:.4f}')"
   ]
  },
  {
   "cell_type": "code",
   "execution_count": null,
   "id": "1882bcbb",
   "metadata": {
    "id": "1882bcbb"
   },
   "outputs": [],
   "source": []
  }
 ],
 "metadata": {
  "colab": {
   "provenance": []
  },
  "kernelspec": {
   "display_name": "Python 3 (ipykernel)",
   "language": "python",
   "name": "python3"
  },
  "language_info": {
   "codemirror_mode": {
    "name": "ipython",
    "version": 3
   },
   "file_extension": ".py",
   "mimetype": "text/x-python",
   "name": "python",
   "nbconvert_exporter": "python",
   "pygments_lexer": "ipython3",
   "version": "3.9.13"
  }
 },
 "nbformat": 4,
 "nbformat_minor": 5
}
